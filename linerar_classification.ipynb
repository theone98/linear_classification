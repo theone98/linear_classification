{
  "nbformat": 4,
  "nbformat_minor": 0,
  "metadata": {
    "colab": {
      "name": "linerar_classification.ipynb",
      "provenance": []
    },
    "kernelspec": {
      "name": "python3",
      "display_name": "Python 3"
    }
  },
  "cells": [
    {
      "cell_type": "code",
      "metadata": {
        "id": "PPRZPXf90f5h",
        "colab_type": "code",
        "colab": {
          "base_uri": "https://localhost:8080/",
          "height": 34
        },
        "outputId": "cdd3804e-539d-4c5b-81ad-c2c8ef38e412"
      },
      "source": [
        ""
      ],
      "execution_count": 2,
      "outputs": [
        {
          "output_type": "stream",
          "text": [
            "1.15.0\n"
          ],
          "name": "stdout"
        }
      ]
    },
    {
      "cell_type": "code",
      "metadata": {
        "id": "zTD894eH1YeH",
        "colab_type": "code",
        "colab": {
          "base_uri": "https://localhost:8080/",
          "height": 1000
        },
        "outputId": "b1044c7e-c5e2-46cf-d436-2830b1047db9"
      },
      "source": [
        "!pip install --upgrade tensorflow"
      ],
      "execution_count": 3,
      "outputs": [
        {
          "output_type": "stream",
          "text": [
            "Collecting tensorflow\n",
            "\u001b[?25l  Downloading https://files.pythonhosted.org/packages/46/0f/7bd55361168bb32796b360ad15a25de6966c9c1beb58a8e30c01c8279862/tensorflow-2.0.0-cp36-cp36m-manylinux2010_x86_64.whl (86.3MB)\n",
            "\u001b[K     |████████████████████████████████| 86.3MB 71kB/s \n",
            "\u001b[?25hRequirement already satisfied, skipping upgrade: wheel>=0.26 in /usr/local/lib/python3.6/dist-packages (from tensorflow) (0.33.6)\n",
            "Requirement already satisfied, skipping upgrade: google-pasta>=0.1.6 in /usr/local/lib/python3.6/dist-packages (from tensorflow) (0.1.8)\n",
            "Collecting tensorboard<2.1.0,>=2.0.0\n",
            "\u001b[?25l  Downloading https://files.pythonhosted.org/packages/76/54/99b9d5d52d5cb732f099baaaf7740403e83fe6b0cedde940fabd2b13d75a/tensorboard-2.0.2-py3-none-any.whl (3.8MB)\n",
            "\u001b[K     |████████████████████████████████| 3.8MB 36.9MB/s \n",
            "\u001b[?25hRequirement already satisfied, skipping upgrade: protobuf>=3.6.1 in /usr/local/lib/python3.6/dist-packages (from tensorflow) (3.10.0)\n",
            "Requirement already satisfied, skipping upgrade: wrapt>=1.11.1 in /usr/local/lib/python3.6/dist-packages (from tensorflow) (1.11.2)\n",
            "Requirement already satisfied, skipping upgrade: opt-einsum>=2.3.2 in /usr/local/lib/python3.6/dist-packages (from tensorflow) (3.1.0)\n",
            "Requirement already satisfied, skipping upgrade: absl-py>=0.7.0 in /usr/local/lib/python3.6/dist-packages (from tensorflow) (0.8.1)\n",
            "Requirement already satisfied, skipping upgrade: keras-applications>=1.0.8 in /usr/local/lib/python3.6/dist-packages (from tensorflow) (1.0.8)\n",
            "Requirement already satisfied, skipping upgrade: termcolor>=1.1.0 in /usr/local/lib/python3.6/dist-packages (from tensorflow) (1.1.0)\n",
            "Requirement already satisfied, skipping upgrade: numpy<2.0,>=1.16.0 in /usr/local/lib/python3.6/dist-packages (from tensorflow) (1.17.4)\n",
            "Collecting tensorflow-estimator<2.1.0,>=2.0.0\n",
            "\u001b[?25l  Downloading https://files.pythonhosted.org/packages/fc/08/8b927337b7019c374719145d1dceba21a8bb909b93b1ad6f8fb7d22c1ca1/tensorflow_estimator-2.0.1-py2.py3-none-any.whl (449kB)\n",
            "\u001b[K     |████████████████████████████████| 450kB 58.1MB/s \n",
            "\u001b[?25hRequirement already satisfied, skipping upgrade: astor>=0.6.0 in /usr/local/lib/python3.6/dist-packages (from tensorflow) (0.8.1)\n",
            "Requirement already satisfied, skipping upgrade: grpcio>=1.8.6 in /usr/local/lib/python3.6/dist-packages (from tensorflow) (1.15.0)\n",
            "Requirement already satisfied, skipping upgrade: six>=1.10.0 in /usr/local/lib/python3.6/dist-packages (from tensorflow) (1.12.0)\n",
            "Requirement already satisfied, skipping upgrade: keras-preprocessing>=1.0.5 in /usr/local/lib/python3.6/dist-packages (from tensorflow) (1.1.0)\n",
            "Requirement already satisfied, skipping upgrade: gast==0.2.2 in /usr/local/lib/python3.6/dist-packages (from tensorflow) (0.2.2)\n",
            "Collecting google-auth<2,>=1.6.3\n",
            "\u001b[?25l  Downloading https://files.pythonhosted.org/packages/36/f8/84b5771faec3eba9fe0c91c8c5896364a8ba08852c0dea5ad2025026dd95/google_auth-1.10.0-py2.py3-none-any.whl (76kB)\n",
            "\u001b[K     |████████████████████████████████| 81kB 10.7MB/s \n",
            "\u001b[?25hRequirement already satisfied, skipping upgrade: requests<3,>=2.21.0 in /usr/local/lib/python3.6/dist-packages (from tensorboard<2.1.0,>=2.0.0->tensorflow) (2.21.0)\n",
            "Requirement already satisfied, skipping upgrade: google-auth-oauthlib<0.5,>=0.4.1 in /usr/local/lib/python3.6/dist-packages (from tensorboard<2.1.0,>=2.0.0->tensorflow) (0.4.1)\n",
            "Requirement already satisfied, skipping upgrade: markdown>=2.6.8 in /usr/local/lib/python3.6/dist-packages (from tensorboard<2.1.0,>=2.0.0->tensorflow) (3.1.1)\n",
            "Requirement already satisfied, skipping upgrade: werkzeug>=0.11.15 in /usr/local/lib/python3.6/dist-packages (from tensorboard<2.1.0,>=2.0.0->tensorflow) (0.16.0)\n",
            "Requirement already satisfied, skipping upgrade: setuptools>=41.0.0 in /usr/local/lib/python3.6/dist-packages (from tensorboard<2.1.0,>=2.0.0->tensorflow) (42.0.2)\n",
            "Requirement already satisfied, skipping upgrade: h5py in /usr/local/lib/python3.6/dist-packages (from keras-applications>=1.0.8->tensorflow) (2.8.0)\n",
            "Requirement already satisfied, skipping upgrade: pyasn1-modules>=0.2.1 in /usr/local/lib/python3.6/dist-packages (from google-auth<2,>=1.6.3->tensorboard<2.1.0,>=2.0.0->tensorflow) (0.2.7)\n",
            "Requirement already satisfied, skipping upgrade: cachetools<5.0,>=2.0.0 in /usr/local/lib/python3.6/dist-packages (from google-auth<2,>=1.6.3->tensorboard<2.1.0,>=2.0.0->tensorflow) (4.0.0)\n",
            "Requirement already satisfied, skipping upgrade: rsa<4.1,>=3.1.4 in /usr/local/lib/python3.6/dist-packages (from google-auth<2,>=1.6.3->tensorboard<2.1.0,>=2.0.0->tensorflow) (4.0)\n",
            "Requirement already satisfied, skipping upgrade: chardet<3.1.0,>=3.0.2 in /usr/local/lib/python3.6/dist-packages (from requests<3,>=2.21.0->tensorboard<2.1.0,>=2.0.0->tensorflow) (3.0.4)\n",
            "Requirement already satisfied, skipping upgrade: idna<2.9,>=2.5 in /usr/local/lib/python3.6/dist-packages (from requests<3,>=2.21.0->tensorboard<2.1.0,>=2.0.0->tensorflow) (2.8)\n",
            "Requirement already satisfied, skipping upgrade: urllib3<1.25,>=1.21.1 in /usr/local/lib/python3.6/dist-packages (from requests<3,>=2.21.0->tensorboard<2.1.0,>=2.0.0->tensorflow) (1.24.3)\n",
            "Requirement already satisfied, skipping upgrade: certifi>=2017.4.17 in /usr/local/lib/python3.6/dist-packages (from requests<3,>=2.21.0->tensorboard<2.1.0,>=2.0.0->tensorflow) (2019.11.28)\n",
            "Requirement already satisfied, skipping upgrade: requests-oauthlib>=0.7.0 in /usr/local/lib/python3.6/dist-packages (from google-auth-oauthlib<0.5,>=0.4.1->tensorboard<2.1.0,>=2.0.0->tensorflow) (1.3.0)\n",
            "Requirement already satisfied, skipping upgrade: pyasn1<0.5.0,>=0.4.6 in /usr/local/lib/python3.6/dist-packages (from pyasn1-modules>=0.2.1->google-auth<2,>=1.6.3->tensorboard<2.1.0,>=2.0.0->tensorflow) (0.4.8)\n",
            "Requirement already satisfied, skipping upgrade: oauthlib>=3.0.0 in /usr/local/lib/python3.6/dist-packages (from requests-oauthlib>=0.7.0->google-auth-oauthlib<0.5,>=0.4.1->tensorboard<2.1.0,>=2.0.0->tensorflow) (3.1.0)\n",
            "\u001b[31mERROR: tensorboard 2.0.2 has requirement grpcio>=1.24.3, but you'll have grpcio 1.15.0 which is incompatible.\u001b[0m\n",
            "\u001b[31mERROR: google-colab 1.0.0 has requirement google-auth~=1.4.0, but you'll have google-auth 1.10.0 which is incompatible.\u001b[0m\n",
            "Installing collected packages: google-auth, tensorboard, tensorflow-estimator, tensorflow\n",
            "  Found existing installation: google-auth 1.4.2\n",
            "    Uninstalling google-auth-1.4.2:\n",
            "      Successfully uninstalled google-auth-1.4.2\n",
            "  Found existing installation: tensorboard 1.15.0\n",
            "    Uninstalling tensorboard-1.15.0:\n",
            "      Successfully uninstalled tensorboard-1.15.0\n",
            "  Found existing installation: tensorflow-estimator 1.15.1\n",
            "    Uninstalling tensorflow-estimator-1.15.1:\n",
            "      Successfully uninstalled tensorflow-estimator-1.15.1\n",
            "  Found existing installation: tensorflow 1.15.0\n",
            "    Uninstalling tensorflow-1.15.0:\n",
            "      Successfully uninstalled tensorflow-1.15.0\n",
            "Successfully installed google-auth-1.10.0 tensorboard-2.0.2 tensorflow-2.0.0 tensorflow-estimator-2.0.1\n"
          ],
          "name": "stdout"
        },
        {
          "output_type": "display_data",
          "data": {
            "application/vnd.colab-display-data+json": {
              "pip_warning": {
                "packages": [
                  "google",
                  "tensorboard",
                  "tensorflow",
                  "tensorflow_core",
                  "tensorflow_estimator"
                ]
              }
            }
          },
          "metadata": {
            "tags": []
          }
        }
      ]
    },
    {
      "cell_type": "code",
      "metadata": {
        "id": "6jr1amXy1vuM",
        "colab_type": "code",
        "colab": {
          "base_uri": "https://localhost:8080/",
          "height": 34
        },
        "outputId": "946ac9aa-1f01-4d75-a483-47f88579ddb4"
      },
      "source": [
        "import tensorflow as tf\n",
        "print(tf.__version__)"
      ],
      "execution_count": 3,
      "outputs": [
        {
          "output_type": "stream",
          "text": [
            "2.0.0\n"
          ],
          "name": "stdout"
        }
      ]
    },
    {
      "cell_type": "code",
      "metadata": {
        "id": "o15txuwb1wqH",
        "colab_type": "code",
        "colab": {}
      },
      "source": [
        "from sklearn.datasets import load_breast_cancer"
      ],
      "execution_count": 0,
      "outputs": []
    },
    {
      "cell_type": "code",
      "metadata": {
        "id": "0lIa_mex2Zd2",
        "colab_type": "code",
        "colab": {}
      },
      "source": [
        "data=load_breast_cancer()"
      ],
      "execution_count": 0,
      "outputs": []
    },
    {
      "cell_type": "code",
      "metadata": {
        "id": "N285RcXF2eeh",
        "colab_type": "code",
        "colab": {
          "base_uri": "https://localhost:8080/",
          "height": 34
        },
        "outputId": "7a7d0454-4133-4f69-d5fc-eabc4bfcc8f5"
      },
      "source": [
        "type(data)\n",
        "data.keys()"
      ],
      "execution_count": 7,
      "outputs": [
        {
          "output_type": "execute_result",
          "data": {
            "text/plain": [
              "dict_keys(['data', 'target', 'target_names', 'DESCR', 'feature_names', 'filename'])"
            ]
          },
          "metadata": {
            "tags": []
          },
          "execution_count": 7
        }
      ]
    },
    {
      "cell_type": "code",
      "metadata": {
        "id": "wHL7JkJC2nRy",
        "colab_type": "code",
        "colab": {
          "base_uri": "https://localhost:8080/",
          "height": 34
        },
        "outputId": "64949467-217e-41ad-fbd4-bd67c19cf4cb"
      },
      "source": [
        "data.data.shape"
      ],
      "execution_count": 8,
      "outputs": [
        {
          "output_type": "execute_result",
          "data": {
            "text/plain": [
              "(569, 30)"
            ]
          },
          "metadata": {
            "tags": []
          },
          "execution_count": 8
        }
      ]
    },
    {
      "cell_type": "code",
      "metadata": {
        "id": "JsyBJzKV24_y",
        "colab_type": "code",
        "colab": {
          "base_uri": "https://localhost:8080/",
          "height": 454
        },
        "outputId": "14b41e1a-5a30-42e5-986b-25464ff56748"
      },
      "source": [
        "data.target"
      ],
      "execution_count": 9,
      "outputs": [
        {
          "output_type": "execute_result",
          "data": {
            "text/plain": [
              "array([0, 0, 0, 0, 0, 0, 0, 0, 0, 0, 0, 0, 0, 0, 0, 0, 0, 0, 0, 1, 1, 1,\n",
              "       0, 0, 0, 0, 0, 0, 0, 0, 0, 0, 0, 0, 0, 0, 0, 1, 0, 0, 0, 0, 0, 0,\n",
              "       0, 0, 1, 0, 1, 1, 1, 1, 1, 0, 0, 1, 0, 0, 1, 1, 1, 1, 0, 1, 0, 0,\n",
              "       1, 1, 1, 1, 0, 1, 0, 0, 1, 0, 1, 0, 0, 1, 1, 1, 0, 0, 1, 0, 0, 0,\n",
              "       1, 1, 1, 0, 1, 1, 0, 0, 1, 1, 1, 0, 0, 1, 1, 1, 1, 0, 1, 1, 0, 1,\n",
              "       1, 1, 1, 1, 1, 1, 1, 0, 0, 0, 1, 0, 0, 1, 1, 1, 0, 0, 1, 0, 1, 0,\n",
              "       0, 1, 0, 0, 1, 1, 0, 1, 1, 0, 1, 1, 1, 1, 0, 1, 1, 1, 1, 1, 1, 1,\n",
              "       1, 1, 0, 1, 1, 1, 1, 0, 0, 1, 0, 1, 1, 0, 0, 1, 1, 0, 0, 1, 1, 1,\n",
              "       1, 0, 1, 1, 0, 0, 0, 1, 0, 1, 0, 1, 1, 1, 0, 1, 1, 0, 0, 1, 0, 0,\n",
              "       0, 0, 1, 0, 0, 0, 1, 0, 1, 0, 1, 1, 0, 1, 0, 0, 0, 0, 1, 1, 0, 0,\n",
              "       1, 1, 1, 0, 1, 1, 1, 1, 1, 0, 0, 1, 1, 0, 1, 1, 0, 0, 1, 0, 1, 1,\n",
              "       1, 1, 0, 1, 1, 1, 1, 1, 0, 1, 0, 0, 0, 0, 0, 0, 0, 0, 0, 0, 0, 0,\n",
              "       0, 0, 1, 1, 1, 1, 1, 1, 0, 1, 0, 1, 1, 0, 1, 1, 0, 1, 0, 0, 1, 1,\n",
              "       1, 1, 1, 1, 1, 1, 1, 1, 1, 1, 1, 0, 1, 1, 0, 1, 0, 1, 1, 1, 1, 1,\n",
              "       1, 1, 1, 1, 1, 1, 1, 1, 1, 0, 1, 1, 1, 0, 1, 0, 1, 1, 1, 1, 0, 0,\n",
              "       0, 1, 1, 1, 1, 0, 1, 0, 1, 0, 1, 1, 1, 0, 1, 1, 1, 1, 1, 1, 1, 0,\n",
              "       0, 0, 1, 1, 1, 1, 1, 1, 1, 1, 1, 1, 1, 0, 0, 1, 0, 0, 0, 1, 0, 0,\n",
              "       1, 1, 1, 1, 1, 0, 1, 1, 1, 1, 1, 0, 1, 1, 1, 0, 1, 1, 0, 0, 1, 1,\n",
              "       1, 1, 1, 1, 0, 1, 1, 1, 1, 1, 1, 1, 0, 1, 1, 1, 1, 1, 0, 1, 1, 0,\n",
              "       1, 1, 1, 1, 1, 1, 1, 1, 1, 1, 1, 1, 0, 1, 0, 0, 1, 0, 1, 1, 1, 1,\n",
              "       1, 0, 1, 1, 0, 1, 0, 1, 1, 0, 1, 0, 1, 1, 1, 1, 1, 1, 1, 1, 0, 0,\n",
              "       1, 1, 1, 1, 1, 1, 0, 1, 1, 1, 1, 1, 1, 1, 1, 1, 1, 0, 1, 1, 1, 1,\n",
              "       1, 1, 1, 0, 1, 0, 1, 1, 0, 1, 1, 1, 1, 1, 0, 0, 1, 0, 1, 0, 1, 1,\n",
              "       1, 1, 1, 0, 1, 1, 0, 1, 0, 1, 0, 0, 1, 1, 1, 0, 1, 1, 1, 1, 1, 1,\n",
              "       1, 1, 1, 1, 1, 0, 1, 0, 0, 1, 1, 1, 1, 1, 1, 1, 1, 1, 1, 1, 1, 1,\n",
              "       1, 1, 1, 1, 1, 1, 1, 1, 1, 1, 1, 1, 0, 0, 0, 0, 0, 0, 1])"
            ]
          },
          "metadata": {
            "tags": []
          },
          "execution_count": 9
        }
      ]
    },
    {
      "cell_type": "code",
      "metadata": {
        "id": "eFWixQP-27S-",
        "colab_type": "code",
        "colab": {
          "base_uri": "https://localhost:8080/",
          "height": 34
        },
        "outputId": "399c3e31-ad27-4bbc-ab35-ac5edbaa451e"
      },
      "source": [
        "data.target_names"
      ],
      "execution_count": 10,
      "outputs": [
        {
          "output_type": "execute_result",
          "data": {
            "text/plain": [
              "array(['malignant', 'benign'], dtype='<U9')"
            ]
          },
          "metadata": {
            "tags": []
          },
          "execution_count": 10
        }
      ]
    },
    {
      "cell_type": "code",
      "metadata": {
        "id": "zrvDarw-3BCR",
        "colab_type": "code",
        "colab": {
          "base_uri": "https://localhost:8080/",
          "height": 34
        },
        "outputId": "24691846-4e7e-4fc7-a1e9-7f36e4123e9f"
      },
      "source": [
        "data.target.shape"
      ],
      "execution_count": 11,
      "outputs": [
        {
          "output_type": "execute_result",
          "data": {
            "text/plain": [
              "(569,)"
            ]
          },
          "metadata": {
            "tags": []
          },
          "execution_count": 11
        }
      ]
    },
    {
      "cell_type": "code",
      "metadata": {
        "id": "qtuPD-Wa3Lie",
        "colab_type": "code",
        "colab": {
          "base_uri": "https://localhost:8080/",
          "height": 185
        },
        "outputId": "578b2057-327a-4c6c-aea6-2b0b5134a15b"
      },
      "source": [
        "data.feature_names"
      ],
      "execution_count": 12,
      "outputs": [
        {
          "output_type": "execute_result",
          "data": {
            "text/plain": [
              "array(['mean radius', 'mean texture', 'mean perimeter', 'mean area',\n",
              "       'mean smoothness', 'mean compactness', 'mean concavity',\n",
              "       'mean concave points', 'mean symmetry', 'mean fractal dimension',\n",
              "       'radius error', 'texture error', 'perimeter error', 'area error',\n",
              "       'smoothness error', 'compactness error', 'concavity error',\n",
              "       'concave points error', 'symmetry error',\n",
              "       'fractal dimension error', 'worst radius', 'worst texture',\n",
              "       'worst perimeter', 'worst area', 'worst smoothness',\n",
              "       'worst compactness', 'worst concavity', 'worst concave points',\n",
              "       'worst symmetry', 'worst fractal dimension'], dtype='<U23')"
            ]
          },
          "metadata": {
            "tags": []
          },
          "execution_count": 12
        }
      ]
    },
    {
      "cell_type": "code",
      "metadata": {
        "id": "rK74bnyU3S9Q",
        "colab_type": "code",
        "colab": {}
      },
      "source": [
        "from sklearn.model_selection import train_test_split\n",
        "\n",
        "X_train, X_test, y_train, y_test = train_test_split(data.data, data.target, test_size=0.33)\n",
        "N, D = X_train.shape\n"
      ],
      "execution_count": 0,
      "outputs": []
    },
    {
      "cell_type": "code",
      "metadata": {
        "id": "sJAmAkv15Wh2",
        "colab_type": "code",
        "colab": {}
      },
      "source": [
        "from sklearn.preprocessing import StandardScaler\n",
        "\n",
        "scaler = StandardScaler()\n",
        "X_train = scaler.fit_transform(X_train)\n",
        "X_test = scaler.transform(X_test)"
      ],
      "execution_count": 0,
      "outputs": []
    },
    {
      "cell_type": "code",
      "metadata": {
        "id": "bnq1VzH_5oIK",
        "colab_type": "code",
        "colab": {
          "base_uri": "https://localhost:8080/",
          "height": 1000
        },
        "outputId": "506c981e-1a47-4562-b62c-36e05960751b"
      },
      "source": [
        "model = tf.keras.models.Sequential([\n",
        "  tf.keras.layers.Input(shape=(D,)),\n",
        "  tf.keras.layers.Dense(1, activation='sigmoid')\n",
        "])\n",
        "\n",
        "model.compile(optimizer='adam',loss='binary_crossentropy',metrics=['accuracy'])\n",
        "\n",
        "\n",
        "# Train the model\n",
        "r = model.fit(X_train, y_train, validation_data=(X_test, y_test), epochs=100)\n",
        "\n",
        "\n",
        "# Evaluate the model - evaluate() returns loss and accuracy\n",
        "print(\"Train score:\", model.evaluate(X_train, y_train))\n",
        "print(\"Test score:\", model.evaluate(X_test, y_test))"
      ],
      "execution_count": 16,
      "outputs": [
        {
          "output_type": "stream",
          "text": [
            "Train on 381 samples, validate on 188 samples\n",
            "Epoch 1/100\n",
            "381/381 [==============================] - 1s 1ms/sample - loss: 0.6206 - accuracy: 0.6798 - val_loss: 0.5584 - val_accuracy: 0.7128\n",
            "Epoch 2/100\n",
            "381/381 [==============================] - 0s 95us/sample - loss: 0.5607 - accuracy: 0.7349 - val_loss: 0.4995 - val_accuracy: 0.7713\n",
            "Epoch 3/100\n",
            "381/381 [==============================] - 0s 91us/sample - loss: 0.5102 - accuracy: 0.7848 - val_loss: 0.4515 - val_accuracy: 0.8404\n",
            "Epoch 4/100\n",
            "381/381 [==============================] - 0s 90us/sample - loss: 0.4683 - accuracy: 0.8189 - val_loss: 0.4125 - val_accuracy: 0.8564\n",
            "Epoch 5/100\n",
            "381/381 [==============================] - 0s 100us/sample - loss: 0.4327 - accuracy: 0.8373 - val_loss: 0.3814 - val_accuracy: 0.8777\n",
            "Epoch 6/100\n",
            "381/381 [==============================] - 0s 106us/sample - loss: 0.4039 - accuracy: 0.8635 - val_loss: 0.3553 - val_accuracy: 0.8830\n",
            "Epoch 7/100\n",
            "381/381 [==============================] - 0s 103us/sample - loss: 0.3787 - accuracy: 0.8740 - val_loss: 0.3338 - val_accuracy: 0.8830\n",
            "Epoch 8/100\n",
            "381/381 [==============================] - 0s 96us/sample - loss: 0.3574 - accuracy: 0.8793 - val_loss: 0.3153 - val_accuracy: 0.9096\n",
            "Epoch 9/100\n",
            "381/381 [==============================] - 0s 97us/sample - loss: 0.3382 - accuracy: 0.8871 - val_loss: 0.2998 - val_accuracy: 0.9149\n",
            "Epoch 10/100\n",
            "381/381 [==============================] - 0s 100us/sample - loss: 0.3216 - accuracy: 0.8871 - val_loss: 0.2862 - val_accuracy: 0.9202\n",
            "Epoch 11/100\n",
            "381/381 [==============================] - 0s 102us/sample - loss: 0.3071 - accuracy: 0.8871 - val_loss: 0.2740 - val_accuracy: 0.9255\n",
            "Epoch 12/100\n",
            "381/381 [==============================] - 0s 99us/sample - loss: 0.2941 - accuracy: 0.8924 - val_loss: 0.2630 - val_accuracy: 0.9362\n",
            "Epoch 13/100\n",
            "381/381 [==============================] - 0s 99us/sample - loss: 0.2821 - accuracy: 0.8976 - val_loss: 0.2533 - val_accuracy: 0.9415\n",
            "Epoch 14/100\n",
            "381/381 [==============================] - 0s 96us/sample - loss: 0.2717 - accuracy: 0.9003 - val_loss: 0.2444 - val_accuracy: 0.9415\n",
            "Epoch 15/100\n",
            "381/381 [==============================] - 0s 106us/sample - loss: 0.2621 - accuracy: 0.9081 - val_loss: 0.2365 - val_accuracy: 0.9415\n",
            "Epoch 16/100\n",
            "381/381 [==============================] - 0s 113us/sample - loss: 0.2534 - accuracy: 0.9134 - val_loss: 0.2292 - val_accuracy: 0.9415\n",
            "Epoch 17/100\n",
            "381/381 [==============================] - 0s 112us/sample - loss: 0.2453 - accuracy: 0.9186 - val_loss: 0.2225 - val_accuracy: 0.9415\n",
            "Epoch 18/100\n",
            "381/381 [==============================] - 0s 91us/sample - loss: 0.2380 - accuracy: 0.9213 - val_loss: 0.2164 - val_accuracy: 0.9415\n",
            "Epoch 19/100\n",
            "381/381 [==============================] - 0s 102us/sample - loss: 0.2313 - accuracy: 0.9213 - val_loss: 0.2106 - val_accuracy: 0.9415\n",
            "Epoch 20/100\n",
            "381/381 [==============================] - 0s 104us/sample - loss: 0.2251 - accuracy: 0.9239 - val_loss: 0.2052 - val_accuracy: 0.9415\n",
            "Epoch 21/100\n",
            "381/381 [==============================] - 0s 89us/sample - loss: 0.2190 - accuracy: 0.9239 - val_loss: 0.2003 - val_accuracy: 0.9415\n",
            "Epoch 22/100\n",
            "381/381 [==============================] - 0s 123us/sample - loss: 0.2136 - accuracy: 0.9291 - val_loss: 0.1956 - val_accuracy: 0.9468\n",
            "Epoch 23/100\n",
            "381/381 [==============================] - 0s 104us/sample - loss: 0.2085 - accuracy: 0.9344 - val_loss: 0.1913 - val_accuracy: 0.9468\n",
            "Epoch 24/100\n",
            "381/381 [==============================] - 0s 95us/sample - loss: 0.2037 - accuracy: 0.9370 - val_loss: 0.1871 - val_accuracy: 0.9468\n",
            "Epoch 25/100\n",
            "381/381 [==============================] - 0s 116us/sample - loss: 0.1991 - accuracy: 0.9423 - val_loss: 0.1832 - val_accuracy: 0.9521\n",
            "Epoch 26/100\n",
            "381/381 [==============================] - 0s 107us/sample - loss: 0.1949 - accuracy: 0.9475 - val_loss: 0.1797 - val_accuracy: 0.9521\n",
            "Epoch 27/100\n",
            "381/381 [==============================] - 0s 89us/sample - loss: 0.1908 - accuracy: 0.9501 - val_loss: 0.1761 - val_accuracy: 0.9574\n",
            "Epoch 28/100\n",
            "381/381 [==============================] - 0s 90us/sample - loss: 0.1869 - accuracy: 0.9528 - val_loss: 0.1729 - val_accuracy: 0.9574\n",
            "Epoch 29/100\n",
            "381/381 [==============================] - 0s 96us/sample - loss: 0.1833 - accuracy: 0.9528 - val_loss: 0.1697 - val_accuracy: 0.9574\n",
            "Epoch 30/100\n",
            "381/381 [==============================] - 0s 107us/sample - loss: 0.1798 - accuracy: 0.9528 - val_loss: 0.1668 - val_accuracy: 0.9628\n",
            "Epoch 31/100\n",
            "381/381 [==============================] - 0s 101us/sample - loss: 0.1764 - accuracy: 0.9528 - val_loss: 0.1640 - val_accuracy: 0.9628\n",
            "Epoch 32/100\n",
            "381/381 [==============================] - 0s 112us/sample - loss: 0.1733 - accuracy: 0.9580 - val_loss: 0.1613 - val_accuracy: 0.9628\n",
            "Epoch 33/100\n",
            "381/381 [==============================] - 0s 111us/sample - loss: 0.1702 - accuracy: 0.9580 - val_loss: 0.1588 - val_accuracy: 0.9628\n",
            "Epoch 34/100\n",
            "381/381 [==============================] - 0s 90us/sample - loss: 0.1674 - accuracy: 0.9580 - val_loss: 0.1563 - val_accuracy: 0.9628\n",
            "Epoch 35/100\n",
            "381/381 [==============================] - 0s 100us/sample - loss: 0.1645 - accuracy: 0.9580 - val_loss: 0.1540 - val_accuracy: 0.9628\n",
            "Epoch 36/100\n",
            "381/381 [==============================] - 0s 113us/sample - loss: 0.1619 - accuracy: 0.9580 - val_loss: 0.1516 - val_accuracy: 0.9628\n",
            "Epoch 37/100\n",
            "381/381 [==============================] - 0s 117us/sample - loss: 0.1593 - accuracy: 0.9580 - val_loss: 0.1495 - val_accuracy: 0.9628\n",
            "Epoch 38/100\n",
            "381/381 [==============================] - 0s 96us/sample - loss: 0.1568 - accuracy: 0.9580 - val_loss: 0.1475 - val_accuracy: 0.9628\n",
            "Epoch 39/100\n",
            "381/381 [==============================] - 0s 87us/sample - loss: 0.1546 - accuracy: 0.9580 - val_loss: 0.1456 - val_accuracy: 0.9628\n",
            "Epoch 40/100\n",
            "381/381 [==============================] - 0s 103us/sample - loss: 0.1523 - accuracy: 0.9606 - val_loss: 0.1437 - val_accuracy: 0.9628\n",
            "Epoch 41/100\n",
            "381/381 [==============================] - 0s 96us/sample - loss: 0.1501 - accuracy: 0.9633 - val_loss: 0.1419 - val_accuracy: 0.9681\n",
            "Epoch 42/100\n",
            "381/381 [==============================] - 0s 104us/sample - loss: 0.1480 - accuracy: 0.9633 - val_loss: 0.1401 - val_accuracy: 0.9681\n",
            "Epoch 43/100\n",
            "381/381 [==============================] - 0s 108us/sample - loss: 0.1459 - accuracy: 0.9633 - val_loss: 0.1384 - val_accuracy: 0.9734\n",
            "Epoch 44/100\n",
            "381/381 [==============================] - 0s 115us/sample - loss: 0.1439 - accuracy: 0.9659 - val_loss: 0.1369 - val_accuracy: 0.9734\n",
            "Epoch 45/100\n",
            "381/381 [==============================] - 0s 89us/sample - loss: 0.1420 - accuracy: 0.9659 - val_loss: 0.1353 - val_accuracy: 0.9734\n",
            "Epoch 46/100\n",
            "381/381 [==============================] - 0s 109us/sample - loss: 0.1402 - accuracy: 0.9685 - val_loss: 0.1339 - val_accuracy: 0.9734\n",
            "Epoch 47/100\n",
            "381/381 [==============================] - 0s 99us/sample - loss: 0.1385 - accuracy: 0.9711 - val_loss: 0.1325 - val_accuracy: 0.9734\n",
            "Epoch 48/100\n",
            "381/381 [==============================] - 0s 100us/sample - loss: 0.1367 - accuracy: 0.9711 - val_loss: 0.1311 - val_accuracy: 0.9734\n",
            "Epoch 49/100\n",
            "381/381 [==============================] - 0s 103us/sample - loss: 0.1350 - accuracy: 0.9711 - val_loss: 0.1298 - val_accuracy: 0.9734\n",
            "Epoch 50/100\n",
            "381/381 [==============================] - 0s 88us/sample - loss: 0.1335 - accuracy: 0.9711 - val_loss: 0.1285 - val_accuracy: 0.9734\n",
            "Epoch 51/100\n",
            "381/381 [==============================] - 0s 97us/sample - loss: 0.1319 - accuracy: 0.9738 - val_loss: 0.1273 - val_accuracy: 0.9734\n",
            "Epoch 52/100\n",
            "381/381 [==============================] - 0s 91us/sample - loss: 0.1304 - accuracy: 0.9738 - val_loss: 0.1261 - val_accuracy: 0.9734\n",
            "Epoch 53/100\n",
            "381/381 [==============================] - 0s 95us/sample - loss: 0.1288 - accuracy: 0.9738 - val_loss: 0.1250 - val_accuracy: 0.9734\n",
            "Epoch 54/100\n",
            "381/381 [==============================] - 0s 90us/sample - loss: 0.1274 - accuracy: 0.9738 - val_loss: 0.1238 - val_accuracy: 0.9734\n",
            "Epoch 55/100\n",
            "381/381 [==============================] - 0s 94us/sample - loss: 0.1260 - accuracy: 0.9738 - val_loss: 0.1228 - val_accuracy: 0.9734\n",
            "Epoch 56/100\n",
            "381/381 [==============================] - 0s 93us/sample - loss: 0.1247 - accuracy: 0.9738 - val_loss: 0.1217 - val_accuracy: 0.9787\n",
            "Epoch 57/100\n",
            "381/381 [==============================] - 0s 106us/sample - loss: 0.1234 - accuracy: 0.9738 - val_loss: 0.1207 - val_accuracy: 0.9787\n",
            "Epoch 58/100\n",
            "381/381 [==============================] - 0s 121us/sample - loss: 0.1221 - accuracy: 0.9738 - val_loss: 0.1198 - val_accuracy: 0.9787\n",
            "Epoch 59/100\n",
            "381/381 [==============================] - 0s 101us/sample - loss: 0.1209 - accuracy: 0.9738 - val_loss: 0.1188 - val_accuracy: 0.9787\n",
            "Epoch 60/100\n",
            "381/381 [==============================] - 0s 102us/sample - loss: 0.1197 - accuracy: 0.9738 - val_loss: 0.1179 - val_accuracy: 0.9787\n",
            "Epoch 61/100\n",
            "381/381 [==============================] - 0s 96us/sample - loss: 0.1184 - accuracy: 0.9738 - val_loss: 0.1171 - val_accuracy: 0.9787\n",
            "Epoch 62/100\n",
            "381/381 [==============================] - 0s 100us/sample - loss: 0.1173 - accuracy: 0.9738 - val_loss: 0.1162 - val_accuracy: 0.9787\n",
            "Epoch 63/100\n",
            "381/381 [==============================] - 0s 96us/sample - loss: 0.1162 - accuracy: 0.9738 - val_loss: 0.1154 - val_accuracy: 0.9787\n",
            "Epoch 64/100\n",
            "381/381 [==============================] - 0s 100us/sample - loss: 0.1150 - accuracy: 0.9738 - val_loss: 0.1147 - val_accuracy: 0.9787\n",
            "Epoch 65/100\n",
            "381/381 [==============================] - 0s 95us/sample - loss: 0.1140 - accuracy: 0.9738 - val_loss: 0.1139 - val_accuracy: 0.9787\n",
            "Epoch 66/100\n",
            "381/381 [==============================] - 0s 109us/sample - loss: 0.1130 - accuracy: 0.9738 - val_loss: 0.1131 - val_accuracy: 0.9787\n",
            "Epoch 67/100\n",
            "381/381 [==============================] - 0s 94us/sample - loss: 0.1119 - accuracy: 0.9738 - val_loss: 0.1124 - val_accuracy: 0.9787\n",
            "Epoch 68/100\n",
            "381/381 [==============================] - 0s 96us/sample - loss: 0.1110 - accuracy: 0.9738 - val_loss: 0.1117 - val_accuracy: 0.9787\n",
            "Epoch 69/100\n",
            "381/381 [==============================] - 0s 100us/sample - loss: 0.1099 - accuracy: 0.9738 - val_loss: 0.1111 - val_accuracy: 0.9787\n",
            "Epoch 70/100\n",
            "381/381 [==============================] - 0s 93us/sample - loss: 0.1090 - accuracy: 0.9738 - val_loss: 0.1104 - val_accuracy: 0.9787\n",
            "Epoch 71/100\n",
            "381/381 [==============================] - 0s 99us/sample - loss: 0.1081 - accuracy: 0.9738 - val_loss: 0.1097 - val_accuracy: 0.9787\n",
            "Epoch 72/100\n",
            "381/381 [==============================] - 0s 94us/sample - loss: 0.1072 - accuracy: 0.9738 - val_loss: 0.1092 - val_accuracy: 0.9787\n",
            "Epoch 73/100\n",
            "381/381 [==============================] - 0s 88us/sample - loss: 0.1063 - accuracy: 0.9738 - val_loss: 0.1086 - val_accuracy: 0.9787\n",
            "Epoch 74/100\n",
            "381/381 [==============================] - 0s 94us/sample - loss: 0.1054 - accuracy: 0.9738 - val_loss: 0.1080 - val_accuracy: 0.9787\n",
            "Epoch 75/100\n",
            "381/381 [==============================] - 0s 93us/sample - loss: 0.1045 - accuracy: 0.9738 - val_loss: 0.1074 - val_accuracy: 0.9787\n",
            "Epoch 76/100\n",
            "381/381 [==============================] - 0s 90us/sample - loss: 0.1037 - accuracy: 0.9738 - val_loss: 0.1069 - val_accuracy: 0.9787\n",
            "Epoch 77/100\n",
            "381/381 [==============================] - 0s 97us/sample - loss: 0.1029 - accuracy: 0.9738 - val_loss: 0.1064 - val_accuracy: 0.9840\n",
            "Epoch 78/100\n",
            "381/381 [==============================] - 0s 95us/sample - loss: 0.1021 - accuracy: 0.9738 - val_loss: 0.1058 - val_accuracy: 0.9840\n",
            "Epoch 79/100\n",
            "381/381 [==============================] - 0s 103us/sample - loss: 0.1013 - accuracy: 0.9764 - val_loss: 0.1053 - val_accuracy: 0.9840\n",
            "Epoch 80/100\n",
            "381/381 [==============================] - 0s 100us/sample - loss: 0.1006 - accuracy: 0.9764 - val_loss: 0.1048 - val_accuracy: 0.9840\n",
            "Epoch 81/100\n",
            "381/381 [==============================] - 0s 101us/sample - loss: 0.0998 - accuracy: 0.9764 - val_loss: 0.1043 - val_accuracy: 0.9840\n",
            "Epoch 82/100\n",
            "381/381 [==============================] - 0s 101us/sample - loss: 0.0991 - accuracy: 0.9764 - val_loss: 0.1039 - val_accuracy: 0.9840\n",
            "Epoch 83/100\n",
            "381/381 [==============================] - 0s 109us/sample - loss: 0.0983 - accuracy: 0.9764 - val_loss: 0.1035 - val_accuracy: 0.9840\n",
            "Epoch 84/100\n",
            "381/381 [==============================] - 0s 97us/sample - loss: 0.0976 - accuracy: 0.9764 - val_loss: 0.1031 - val_accuracy: 0.9840\n",
            "Epoch 85/100\n",
            "381/381 [==============================] - 0s 102us/sample - loss: 0.0969 - accuracy: 0.9764 - val_loss: 0.1026 - val_accuracy: 0.9840\n",
            "Epoch 86/100\n",
            "381/381 [==============================] - 0s 99us/sample - loss: 0.0962 - accuracy: 0.9764 - val_loss: 0.1022 - val_accuracy: 0.9840\n",
            "Epoch 87/100\n",
            "381/381 [==============================] - 0s 111us/sample - loss: 0.0956 - accuracy: 0.9764 - val_loss: 0.1018 - val_accuracy: 0.9840\n",
            "Epoch 88/100\n",
            "381/381 [==============================] - 0s 89us/sample - loss: 0.0949 - accuracy: 0.9764 - val_loss: 0.1014 - val_accuracy: 0.9840\n",
            "Epoch 89/100\n",
            "381/381 [==============================] - 0s 102us/sample - loss: 0.0943 - accuracy: 0.9764 - val_loss: 0.1010 - val_accuracy: 0.9840\n",
            "Epoch 90/100\n",
            "381/381 [==============================] - 0s 85us/sample - loss: 0.0936 - accuracy: 0.9764 - val_loss: 0.1007 - val_accuracy: 0.9840\n",
            "Epoch 91/100\n",
            "381/381 [==============================] - 0s 91us/sample - loss: 0.0930 - accuracy: 0.9764 - val_loss: 0.1003 - val_accuracy: 0.9840\n",
            "Epoch 92/100\n",
            "381/381 [==============================] - 0s 99us/sample - loss: 0.0924 - accuracy: 0.9764 - val_loss: 0.1000 - val_accuracy: 0.9840\n",
            "Epoch 93/100\n",
            "381/381 [==============================] - 0s 93us/sample - loss: 0.0918 - accuracy: 0.9764 - val_loss: 0.0997 - val_accuracy: 0.9840\n",
            "Epoch 94/100\n",
            "381/381 [==============================] - 0s 102us/sample - loss: 0.0912 - accuracy: 0.9764 - val_loss: 0.0993 - val_accuracy: 0.9840\n",
            "Epoch 95/100\n",
            "381/381 [==============================] - 0s 103us/sample - loss: 0.0907 - accuracy: 0.9764 - val_loss: 0.0990 - val_accuracy: 0.9840\n",
            "Epoch 96/100\n",
            "381/381 [==============================] - 0s 91us/sample - loss: 0.0901 - accuracy: 0.9764 - val_loss: 0.0987 - val_accuracy: 0.9840\n",
            "Epoch 97/100\n",
            "381/381 [==============================] - 0s 91us/sample - loss: 0.0895 - accuracy: 0.9764 - val_loss: 0.0984 - val_accuracy: 0.9840\n",
            "Epoch 98/100\n",
            "381/381 [==============================] - 0s 106us/sample - loss: 0.0890 - accuracy: 0.9764 - val_loss: 0.0981 - val_accuracy: 0.9840\n",
            "Epoch 99/100\n",
            "381/381 [==============================] - 0s 104us/sample - loss: 0.0884 - accuracy: 0.9764 - val_loss: 0.0978 - val_accuracy: 0.9840\n",
            "Epoch 100/100\n",
            "381/381 [==============================] - 0s 97us/sample - loss: 0.0879 - accuracy: 0.9790 - val_loss: 0.0976 - val_accuracy: 0.9840\n",
            "381/1 [======================================================================================================================================================================================================================================================================================================================================================================================================================================================================================================================================================================================================================================================================================================================================================================================================================================================================================================================================================================================================================================================================================================================================================================================================================================================================================================================================================================================================================================================================================================================================================================================================================================================================================================================================================================================================================================================================================================================================================================================================================================================================================================================================================================================================================================================================================================================================================================================================================================================================================================================================================================================================================================================================================================================================================================================================================================================================================================================================================================================================================================================================================================================================================================================================================================================================================================================================================================================================================================================================================================================================================================================================================================================================================================================================================================================================================================================================================================================================================================================================================================================================================================================================================================================================================================================================================================================================================================================================================================================================================================================================================================================================================================================================================================================================================================================================================================================================================================================================================================================================================================================================================================================================================================================================================================================================================================================================================================================================================================================================================================================================================================================================================================================================================================================================================================================================================================================================================================================================================================================================================================================================================================================================================================================================================================================================================================================================================================================================================================================================================================================================================================================================================================================================================================================================================================================================================================================================================================================================================================================================================================================================================================================================================================================================================================================================================================================================================================================================================================================================================================================================================================================================================================================================================================================================================================================================================================================================================================================================================================================================================================================================================================================================================================================================================================================================================================================================================================================================================================================================================================================================================================================================================================================================================================================================================================================================================================================================================================================================================================================================================================================================================================================================================================================================================================================================================================================================================================================================================================================================================================================================================================================================================================================================================================================================================================================================================================================================================================================================================================================================================================================================================================================================================================================================================================================================================================================================================================================================================================================================================================================================================================================================================================================================================================================================================================================================================================================================================================================================================================================================================================================================================================================================================================================================================================================================================================================================================================================================================================================================================================================================================================================================================================================================================================================================================================================================================================================================================================] - 0s 33us/sample - loss: 0.0654 - accuracy: 0.9790\n",
            "Train score: [0.08754764873720217, 0.9790026]\n",
            "188/1 [========================================================================================================================================================================================================================================================================================================================================================================================================================================================================================================================================================================================================================================================================================================================================================================================================================================================================================================================================================================================================================================================================================================================================================================================================================================================================================================================================================================================================================================================================================================================================================================================================================================================================================================================================================================================================================================================================================================================================================================================================================================================================================================================================================================================================================================================================================================================================================================================================================================================================================================================================================================================================================================================================================================================================================================================================================================================================================================================================================================================================================================================================================================================================================================================================================================================================================================================================================================================================================================================================================================================================================================================================================================================================================================================================================================================================================================================================================================================================================================================================================================================================================================================================================================================================================================================================================================================================================================================================================================================================================================================================================================================================================================================================================================================================================================================================================================================================================================================================================================================================================================================================================================================================================================================================================================================================================================================================================================================================================================================================================================================================================================================================================================================================================================================================================================================================================================================================] - 0s 48us/sample - loss: 0.1212 - accuracy: 0.9840\n",
            "Test score: [0.09755420050722488, 0.9840425]\n"
          ],
          "name": "stdout"
        }
      ]
    },
    {
      "cell_type": "code",
      "metadata": {
        "id": "5H4xbtnY693Q",
        "colab_type": "code",
        "colab": {
          "base_uri": "https://localhost:8080/",
          "height": 282
        },
        "outputId": "b8e2ab94-a743-4247-ae13-07ecdf0f50ce"
      },
      "source": [
        "import matplotlib.pyplot as plt\n",
        "plt.plot(r.history['loss'],label='loss')\n",
        "plt.plot(r.history['val_loss'],label='val_loss')\n",
        "plt.legend()"
      ],
      "execution_count": 21,
      "outputs": [
        {
          "output_type": "execute_result",
          "data": {
            "text/plain": [
              "<matplotlib.legend.Legend at 0x7f0d22c41940>"
            ]
          },
          "metadata": {
            "tags": []
          },
          "execution_count": 21
        },
        {
          "output_type": "display_data",
          "data": {
            "image/png": "[encoded data removed]",
            "text/plain": [
              "<Figure size 432x288 with 1 Axes>"
            ]
          },
          "metadata": {
            "tags": []
          }
        }
      ]
    },
    {
      "cell_type": "code",
      "metadata": {
        "id": "HhP4_SlE7hh2",
        "colab_type": "code",
        "colab": {
          "base_uri": "https://localhost:8080/",
          "height": 282
        },
        "outputId": "d3c3ce1a-b833-47c9-80cb-1e53d78a2d34"
      },
      "source": [
        "plt.plot(r.history['accuracy'], label='acc')\n",
        "plt.plot(r.history['val_accuracy'], label='val_acc')\n",
        "plt.legend()"
      ],
      "execution_count": 22,
      "outputs": [
        {
          "output_type": "execute_result",
          "data": {
            "text/plain": [
              "<matplotlib.legend.Legend at 0x7f0d22baeb38>"
            ]
          },
          "metadata": {
            "tags": []
          },
          "execution_count": 22
        },
        {
          "output_type": "display_data",
          "data": {
            "image/png": "[encoded data removed]",
            "text/plain": [
              "<Figure size 432x288 with 1 Axes>"
            ]
          },
          "metadata": {
            "tags": []
          }
        }
      ]
    },
    {
      "cell_type": "code",
      "metadata": {
        "id": "ksT-shfB8FXs",
        "colab_type": "code",
        "colab": {
          "base_uri": "https://localhost:8080/",
          "height": 1000
        },
        "outputId": "ecef4d71-ebc6-4378-837a-02877e8cd57b"
      },
      "source": [
        "P = model.predict(X_test)\n",
        "print(P)\n",
        "\n",
        "\n",
        "import numpy as np\n",
        "P = np.round(P).flatten()\n",
        "print(P)"
      ],
      "execution_count": 23,
      "outputs": [
        {
          "output_type": "stream",
          "text": [
            "[[8.00356269e-03]\n",
            " [4.27401662e-02]\n",
            " [9.82153296e-01]\n",
            " [9.91669297e-02]\n",
            " [3.41653824e-04]\n",
            " [6.14583492e-04]\n",
            " [9.82455015e-01]\n",
            " [3.24511051e-01]\n",
            " [3.47130001e-02]\n",
            " [3.27383280e-02]\n",
            " [9.56404209e-01]\n",
            " [9.99837160e-01]\n",
            " [9.53842521e-01]\n",
            " [9.85821605e-01]\n",
            " [9.85575795e-01]\n",
            " [9.89805460e-01]\n",
            " [8.50828767e-01]\n",
            " [9.79010344e-01]\n",
            " [2.87556231e-01]\n",
            " [9.75896239e-01]\n",
            " [8.91616106e-01]\n",
            " [1.36283904e-01]\n",
            " [9.24130201e-01]\n",
            " [9.96997595e-01]\n",
            " [1.04695559e-02]\n",
            " [9.76073325e-01]\n",
            " [8.50659609e-03]\n",
            " [1.38291717e-02]\n",
            " [9.71150696e-01]\n",
            " [9.83214498e-01]\n",
            " [7.50807524e-01]\n",
            " [9.99364853e-01]\n",
            " [7.81020522e-03]\n",
            " [9.83514190e-01]\n",
            " [9.97085094e-01]\n",
            " [9.69250560e-01]\n",
            " [7.43180513e-04]\n",
            " [6.91645563e-01]\n",
            " [9.85696197e-01]\n",
            " [9.10808682e-01]\n",
            " [9.98381019e-01]\n",
            " [2.33650208e-05]\n",
            " [9.51908469e-01]\n",
            " [9.69426274e-01]\n",
            " [5.39959908e-01]\n",
            " [9.99917746e-01]\n",
            " [5.47710061e-03]\n",
            " [9.99809980e-01]\n",
            " [8.27128530e-01]\n",
            " [7.15255737e-07]\n",
            " [5.25861979e-04]\n",
            " [9.85064089e-01]\n",
            " [9.67696190e-01]\n",
            " [9.84232545e-01]\n",
            " [6.83895350e-02]\n",
            " [9.92746949e-01]\n",
            " [9.95887935e-01]\n",
            " [9.42744970e-01]\n",
            " [2.89320946e-04]\n",
            " [9.68575478e-06]\n",
            " [9.23505783e-01]\n",
            " [8.01491201e-01]\n",
            " [9.69836473e-01]\n",
            " [9.97981489e-01]\n",
            " [9.98972893e-01]\n",
            " [6.72340393e-05]\n",
            " [3.72967124e-03]\n",
            " [9.83959198e-01]\n",
            " [9.37243104e-01]\n",
            " [9.95883942e-01]\n",
            " [4.11412120e-03]\n",
            " [9.70549464e-01]\n",
            " [9.91916060e-01]\n",
            " [9.76239264e-01]\n",
            " [3.06754410e-02]\n",
            " [6.15864992e-04]\n",
            " [1.06510520e-03]\n",
            " [1.22189075e-01]\n",
            " [1.50352716e-04]\n",
            " [2.17755049e-01]\n",
            " [1.67613387e-01]\n",
            " [9.62350368e-01]\n",
            " [9.86036360e-02]\n",
            " [9.40471053e-01]\n",
            " [1.07440948e-02]\n",
            " [7.32958317e-04]\n",
            " [1.50948763e-04]\n",
            " [9.90934849e-01]\n",
            " [5.06639481e-07]\n",
            " [1.07288361e-06]\n",
            " [2.62856483e-05]\n",
            " [4.54988480e-01]\n",
            " [9.98182893e-01]\n",
            " [9.86271977e-01]\n",
            " [4.40612435e-03]\n",
            " [8.54455829e-01]\n",
            " [9.91182089e-01]\n",
            " [2.52932310e-04]\n",
            " [9.61406469e-01]\n",
            " [2.75969505e-03]\n",
            " [9.96584177e-01]\n",
            " [2.98023224e-08]\n",
            " [9.55508471e-01]\n",
            " [9.51068044e-01]\n",
            " [6.33370399e-01]\n",
            " [9.55366850e-01]\n",
            " [1.22932792e-02]\n",
            " [9.77904320e-01]\n",
            " [1.04835033e-02]\n",
            " [9.71397042e-01]\n",
            " [9.09787893e-01]\n",
            " [9.98866796e-01]\n",
            " [9.92538691e-01]\n",
            " [9.47673082e-01]\n",
            " [9.69909966e-01]\n",
            " [1.42455101e-05]\n",
            " [9.85807896e-01]\n",
            " [9.89885449e-01]\n",
            " [9.99488950e-01]\n",
            " [9.60112572e-01]\n",
            " [9.97288704e-01]\n",
            " [9.99010384e-01]\n",
            " [9.99800801e-01]\n",
            " [9.83786583e-01]\n",
            " [9.57511663e-01]\n",
            " [1.92582607e-03]\n",
            " [8.24794769e-01]\n",
            " [9.49501991e-05]\n",
            " [1.80311322e-01]\n",
            " [1.76795721e-02]\n",
            " [9.98830199e-01]\n",
            " [9.90667105e-01]\n",
            " [9.99911249e-01]\n",
            " [2.97035277e-02]\n",
            " [9.96012270e-01]\n",
            " [9.89013195e-01]\n",
            " [1.76113844e-03]\n",
            " [9.24393237e-01]\n",
            " [9.91513669e-01]\n",
            " [4.16249037e-04]\n",
            " [1.89608634e-02]\n",
            " [1.87669396e-02]\n",
            " [5.59232950e-01]\n",
            " [9.02063549e-02]\n",
            " [3.88151407e-03]\n",
            " [9.98571634e-01]\n",
            " [9.05001760e-01]\n",
            " [9.76441562e-01]\n",
            " [9.83990908e-01]\n",
            " [8.70376825e-03]\n",
            " [9.98721957e-01]\n",
            " [9.95248497e-01]\n",
            " [6.50605977e-01]\n",
            " [2.98023224e-08]\n",
            " [4.83155251e-04]\n",
            " [9.79607821e-01]\n",
            " [9.45778310e-01]\n",
            " [9.87785578e-01]\n",
            " [9.26665068e-01]\n",
            " [9.99273121e-01]\n",
            " [5.47233760e-01]\n",
            " [7.45439529e-03]\n",
            " [9.91553664e-01]\n",
            " [9.14627731e-01]\n",
            " [2.34019756e-03]\n",
            " [9.72483873e-01]\n",
            " [7.23695755e-02]\n",
            " [9.96347070e-01]\n",
            " [9.95954514e-01]\n",
            " [9.99181986e-01]\n",
            " [9.81399179e-01]\n",
            " [9.99168396e-01]\n",
            " [4.23256457e-01]\n",
            " [9.95326042e-01]\n",
            " [7.86961079e-01]\n",
            " [2.98023224e-08]\n",
            " [4.88817692e-04]\n",
            " [8.28225493e-01]\n",
            " [2.27153301e-04]\n",
            " [9.55629468e-01]\n",
            " [0.00000000e+00]\n",
            " [9.97487664e-01]\n",
            " [1.18374825e-04]\n",
            " [8.86937678e-01]\n",
            " [1.74844570e-06]\n",
            " [8.15525413e-01]\n",
            " [7.52636313e-01]\n",
            " [9.96363103e-01]]\n",
            "[0. 0. 1. 0. 0. 0. 1. 0. 0. 0. 1. 1. 1. 1. 1. 1. 1. 1. 0. 1. 1. 0. 1. 1.\n",
            " 0. 1. 0. 0. 1. 1. 1. 1. 0. 1. 1. 1. 0. 1. 1. 1. 1. 0. 1. 1. 1. 1. 0. 1.\n",
            " 1. 0. 0. 1. 1. 1. 0. 1. 1. 1. 0. 0. 1. 1. 1. 1. 1. 0. 0. 1. 1. 1. 0. 1.\n",
            " 1. 1. 0. 0. 0. 0. 0. 0. 0. 1. 0. 1. 0. 0. 0. 1. 0. 0. 0. 0. 1. 1. 0. 1.\n",
            " 1. 0. 1. 0. 1. 0. 1. 1. 1. 1. 0. 1. 0. 1. 1. 1. 1. 1. 1. 0. 1. 1. 1. 1.\n",
            " 1. 1. 1. 1. 1. 0. 1. 0. 0. 0. 1. 1. 1. 0. 1. 1. 0. 1. 1. 0. 0. 0. 1. 0.\n",
            " 0. 1. 1. 1. 1. 0. 1. 1. 1. 0. 0. 1. 1. 1. 1. 1. 1. 0. 1. 1. 0. 1. 0. 1.\n",
            " 1. 1. 1. 1. 0. 1. 1. 0. 0. 1. 0. 1. 0. 1. 0. 1. 0. 1. 1. 1.]\n"
          ],
          "name": "stdout"
        }
      ]
    },
    {
      "cell_type": "code",
      "metadata": {
        "id": "SRO27qcG8Y1t",
        "colab_type": "code",
        "colab": {
          "base_uri": "https://localhost:8080/",
          "height": 34
        },
        "outputId": "d2b31c8a-4625-44ba-a4c7-5714afcf3ad8"
      },
      "source": [
        "print(\"Manually calculated accuracy:\", np.mean(P == y_test))"
      ],
      "execution_count": 24,
      "outputs": [
        {
          "output_type": "stream",
          "text": [
            "Manually calculated accuracy: 0.9840425531914894\n"
          ],
          "name": "stdout"
        }
      ]
    },
    {
      "cell_type": "code",
      "metadata": {
        "id": "2LQGcXgP8q2A",
        "colab_type": "code",
        "colab": {}
      },
      "source": [
        ""
      ],
      "execution_count": 0,
      "outputs": []
    }
  ]
}